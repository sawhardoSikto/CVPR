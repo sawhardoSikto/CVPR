{
 "cells": [
  {
   "cell_type": "code",
   "execution_count": 1,
   "id": "c059bae3",
   "metadata": {},
   "outputs": [],
   "source": [
    "import cv2\n",
    "import numpy as np\n",
    "from tensorflow.keras.models import load_model"
   ]
  },
  {
   "cell_type": "code",
   "execution_count": 2,
   "id": "fadb5b1d",
   "metadata": {},
   "outputs": [
    {
     "name": "stderr",
     "output_type": "stream",
     "text": [
      "WARNING:absl:Compiled the loaded model, but the compiled metrics have yet to be built. `model.compile_metrics` will be empty until you train or evaluate the model.\n"
     ]
    }
   ],
   "source": [
    "MODEL_PATH = \"my_model.h5\"  \n",
    "model = load_model(MODEL_PATH)"
   ]
  },
  {
   "cell_type": "code",
   "execution_count": null,
   "id": "b4a1cca3",
   "metadata": {},
   "outputs": [],
   "source": [
    "def prepare_digit(image):\n",
    "    \"\"\"Preprocess ROI from webcam for digit recognition (MNIST style).\"\"\"\n",
    "    # Convert to grayscale + blur to reduce noise\n",
    "    gray_img = cv2.cvtColor(image, cv2.COLOR_BGR2GRAY)\n",
    "    blurred = cv2.GaussianBlur(gray_img, (5, 5), 0)\n",
    "\n",
    "    # Adaptive thresholding (invert colors: digit = white)\n",
    "    binary = cv2.adaptiveThreshold(\n",
    "        blurred, 255,\n",
    "        cv2.ADAPTIVE_THRESH_GAUSSIAN_C,\n",
    "        cv2.THRESH_BINARY_INV, 11, 3\n",
    "    )\n",
    "\n",
    "    # Reduce noise and emphasize strokes\n",
    "    binary = cv2.medianBlur(binary, 3)\n",
    "    binary = cv2.dilate(binary, np.ones((3, 3), np.uint8), iterations=1)\n",
    "\n",
    "    # Find digit contour\n",
    "    contours, _ = cv2.findContours(binary, cv2.RETR_EXTERNAL, cv2.CHAIN_APPROX_SIMPLE)\n",
    "    if contours:\n",
    "        # Biggest contour = digit\n",
    "        main_contour = max(contours, key=cv2.contourArea)\n",
    "        x, y, w, h = cv2.boundingRect(main_contour)\n",
    "\n",
    "        # Create square canvas around digit\n",
    "        side = max(w, h)\n",
    "        dx = (side - w) // 2\n",
    "        dy = (side - h) // 2\n",
    "\n",
    "        square_digit = np.zeros((side, side), dtype=np.uint8)\n",
    "        square_digit[dy:dy + h, dx:dx + w] = binary[y:y + h, x:x + w]\n",
    "\n",
    "        # Resize to 20×20 and place in 28×28 (padding = 4 px)\n",
    "        resized = cv2.resize(square_digit, (20, 20))\n",
    "        canvas = np.zeros((28, 28), dtype=np.uint8)\n",
    "        canvas[4:24, 4:24] = resized\n",
    "    else:\n",
    "        # Fallback: just resize full ROI\n",
    "        canvas = cv2.resize(binary, (28, 28))\n",
    "\n",
    "    # Normalize and reshape for model input\n",
    "    normalized = canvas.astype(\"float32\") / 255.0\n",
    "    normalized = normalized.reshape(1, 784)  # (1,784) for fully-connected MNIST\n",
    "\n",
    "    return normalized, canvas\n"
   ]
  },
  {
   "cell_type": "code",
   "execution_count": 4,
   "id": "50f02f1d",
   "metadata": {},
   "outputs": [],
   "source": [
    "def run_webcam_prediction(model):\n",
    "    cam = cv2.VideoCapture(0)\n",
    "    if not cam.isOpened():\n",
    "        print(\"❌ Webcam not available\")\n",
    "        return\n",
    "\n",
    "    print(\"✅ Webcam active! Draw a digit inside the green box. Press 'q' to quit.\")\n",
    "\n",
    "    while True:\n",
    "        grabbed, frame = cam.read()\n",
    "        if not grabbed:\n",
    "            break\n",
    "\n",
    "        height, width = frame.shape[:2]\n",
    "        box_size = 150\n",
    "        x_start = (width - box_size) // 2\n",
    "        y_start = (height - box_size) // 2\n",
    "        x_end, y_end = x_start + box_size, y_start + box_size\n",
    "\n",
    "        # Draw ROI guide box\n",
    "        output_frame = frame.copy()\n",
    "        cv2.rectangle(output_frame, (x_start, y_start), (x_end, y_end), (0, 255, 0), 2)\n",
    "\n",
    "        # Process ROI\n",
    "        roi = frame[y_start:y_end, x_start:x_end]\n",
    "        processed_input, debug_view = prepare_digit(roi)\n",
    "        preds = model.predict(processed_input, verbose=0)\n",
    "        pred_digit = np.argmax(preds)\n",
    "        pred_conf = np.max(preds)\n",
    "\n",
    "        # --- New Output Style ---\n",
    "        # Black banner at bottom\n",
    "        cv2.rectangle(output_frame, (0, height - 60), (width, height), (0, 0, 0), -1)\n",
    "\n",
    "        # Display prediction\n",
    "        cv2.putText(output_frame, f\"Digit: {pred_digit}\", (20, height - 20),\n",
    "                    cv2.FONT_HERSHEY_SIMPLEX, 1.2, (0, 255, 255), 3)   # Yellow\n",
    "        cv2.putText(output_frame, f\"Confidence: {pred_conf:.2f}\", (200, height - 20),\n",
    "                    cv2.FONT_HERSHEY_SIMPLEX, 0.9, (255, 255, 255), 2) # White\n",
    "\n",
    "        # Place CNN view in bottom-right\n",
    "        preview = cv2.resize(debug_view, (120, 120))\n",
    "        preview = cv2.cvtColor(preview, cv2.COLOR_GRAY2BGR)\n",
    "        output_frame[height-130:height-10, width-130:width-10] = preview\n",
    "        cv2.putText(output_frame, \"Model Input\", (width-150, height-140),\n",
    "                    cv2.FONT_HERSHEY_SIMPLEX, 0.5, (0, 255, 0), 1)\n",
    "\n",
    "        # Show final window\n",
    "        cv2.imshow(\"Digit Recognition (Webcam)\", output_frame)\n",
    "\n",
    "        if cv2.waitKey(1) & 0xFF == ord('q'):\n",
    "            break\n",
    "\n",
    "    cam.release()\n",
    "    cv2.destroyAllWindows()\n"
   ]
  },
  {
   "cell_type": "code",
   "execution_count": null,
   "id": "6e79bc2e",
   "metadata": {},
   "outputs": [
    {
     "name": "stderr",
     "output_type": "stream",
     "text": [
      "WARNING:absl:Compiled the loaded model, but the compiled metrics have yet to be built. `model.compile_metrics` will be empty until you train or evaluate the model.\n"
     ]
    },
    {
     "name": "stdout",
     "output_type": "stream",
     "text": [
      "✅ Webcam active! Draw a digit inside the green box. Press 'q' to quit.\n"
     ]
    }
   ],
   "source": [
    "import tensorflow as tf\n",
    "\n",
    "if __name__ == \"__main__\":\n",
    "    # Load your trained MNIST model\n",
    "    model = tf.keras.models.load_model(\"my_model.h5\")\n",
    "\n",
    "    # Pass the model into the function\n",
    "    run_webcam_prediction(model)\n"
   ]
  }
 ],
 "metadata": {
  "kernelspec": {
   "display_name": "tf_env",
   "language": "python",
   "name": "python3"
  },
  "language_info": {
   "codemirror_mode": {
    "name": "ipython",
    "version": 3
   },
   "file_extension": ".py",
   "mimetype": "text/x-python",
   "name": "python",
   "nbconvert_exporter": "python",
   "pygments_lexer": "ipython3",
   "version": "3.13.2"
  }
 },
 "nbformat": 4,
 "nbformat_minor": 5
}
